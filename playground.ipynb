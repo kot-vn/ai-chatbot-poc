{
 "cells": [
  {
   "cell_type": "code",
   "execution_count": null,
   "metadata": {},
   "outputs": [],
   "source": [
    "import os\n",
    "\n",
    "def test(request):\n",
    "  # serializer = KnowledgeSerializer(data=request.data)\n",
    "  # serializer.is_valid(raise_exception=True)\n",
    "  # validated_data = serializer.validated_data\n",
    "  file = request.data.get(\"file\")\n",
    "\n",
    "  # Get the file name and extension\n",
    "  file_name = file.name\n",
    "  file_name_without_extension, file_extension = os.path.splitext(file_name)\n",
    "\n",
    "  print(f\"File name: {file_name_without_extension}\")\n",
    "  print(f\"File extension: {file_extension}\")"
   ]
  },
  {
   "cell_type": "code",
   "execution_count": 1,
   "metadata": {},
   "outputs": [
    {
     "name": "stdout",
     "output_type": "stream",
     "text": [
      "File name: knowledges/test\n"
     ]
    }
   ],
   "source": [
    "file_name = \"test\"\n",
    "storage_path = f\"knowledges/{file_name}\"\n",
    "\n",
    "print(f\"File name: {storage_path}\")"
   ]
  },
  {
   "cell_type": "code",
   "execution_count": 1,
   "metadata": {},
   "outputs": [
    {
     "name": "stdout",
     "output_type": "stream",
     "text": [
      "3LKxDOHP_sMvxvWhSHA4p2CoIwjx7fnY\n",
      "knowledges/3LKxDOHP_sMvxvWhSHA4p2CoIwjx7fnY-test.txt\n"
     ]
    }
   ],
   "source": [
    "import secrets\n",
    "import base64\n",
    "\n",
    "url_safe_string = base64.urlsafe_b64encode(secrets.token_bytes(24)).decode('utf-8')\n",
    "\n",
    "file_name = \"test.txt\"\n",
    "storage_path = f\"knowledges/{url_safe_string}-{file_name}\"\n",
    "\n",
    "print(url_safe_string)\n",
    "print(storage_path)\n"
   ]
  },
  {
   "cell_type": "code",
   "execution_count": 1,
   "metadata": {},
   "outputs": [
    {
     "data": {
      "text/plain": [
       "'/var/folders/yg/gnt5x1sx3yxgk2qx_5dr8qkh0000gn/T/tmp1d588grm'"
      ]
     },
     "execution_count": 1,
     "metadata": {},
     "output_type": "execute_result"
    }
   ],
   "source": [
    "import tempfile\n",
    "\n",
    "tempfile.NamedTemporaryFile().name"
   ]
  },
  {
   "cell_type": "code",
   "execution_count": null,
   "metadata": {},
   "outputs": [],
   "source": [
    "from django.core.files.storage import FileSystemStorage\n",
    "from django.http import HttpResponse\n",
    "\n",
    "\n",
    "def simple_view(request):\n",
    "    in_memory_file_obj = request.FILES[\"file\"]\n",
    "    FileSystemStorage(location=\"/tmp\").save(in_memory_file_obj.name, in_memory_file_obj)\n",
    "    return HttpResponse(\"Success\")"
   ]
  },
  {
   "cell_type": "code",
   "execution_count": null,
   "metadata": {},
   "outputs": [],
   "source": [
    "import shutil\n",
    "\n",
    "os.mkdir('dir')\n",
    "# os.rmdir('dir')\n",
    "# os.path.exists('dir')\n",
    "shutil.rmtree('dir')"
   ]
  },
  {
   "cell_type": "code",
   "execution_count": 16,
   "metadata": {},
   "outputs": [],
   "source": [
    "%reset -f"
   ]
  },
  {
   "cell_type": "code",
   "execution_count": 1,
   "metadata": {},
   "outputs": [
    {
     "ename": "SynchronousOnlyOperation",
     "evalue": "You cannot call this from an async context - use a thread or sync_to_async.",
     "output_type": "error",
     "traceback": [
      "\u001b[0;31m---------------------------------------------------------------------------\u001b[0m",
      "\u001b[0;31mSynchronousOnlyOperation\u001b[0m                  Traceback (most recent call last)",
      "Cell \u001b[0;32mIn[1], line 18\u001b[0m\n\u001b[1;32m     15\u001b[0m             row \u001b[38;5;241m=\u001b[39m cursor\u001b[38;5;241m.\u001b[39mfetchone()\n\u001b[1;32m     16\u001b[0m         \u001b[38;5;28;01mreturn\u001b[39;00m row[\u001b[38;5;241m0\u001b[39m] \u001b[38;5;241m>\u001b[39m \u001b[38;5;241m0\u001b[39m \u001b[38;5;28;01mif\u001b[39;00m row \u001b[38;5;28;01melse\u001b[39;00m \u001b[38;5;28;01mFalse\u001b[39;00m\n\u001b[0;32m---> 18\u001b[0m \u001b[43mhave_embeddings\u001b[49m\u001b[43m(\u001b[49m\u001b[43m)\u001b[49m\n",
      "Cell \u001b[0;32mIn[1], line 13\u001b[0m, in \u001b[0;36mhave_embeddings\u001b[0;34m()\u001b[0m\n\u001b[1;32m     12\u001b[0m \u001b[38;5;28;01mdef\u001b[39;00m \u001b[38;5;21mhave_embeddings\u001b[39m():\n\u001b[0;32m---> 13\u001b[0m         \u001b[38;5;28;01mwith\u001b[39;00m \u001b[43mconnection\u001b[49m\u001b[38;5;241;43m.\u001b[39;49m\u001b[43mcursor\u001b[49m\u001b[43m(\u001b[49m\u001b[43m)\u001b[49m \u001b[38;5;28;01mas\u001b[39;00m cursor:\n\u001b[1;32m     14\u001b[0m             cursor\u001b[38;5;241m.\u001b[39mexecute(\u001b[38;5;124m\"\u001b[39m\u001b[38;5;124mSELECT COUNT(*) FROM knowledge\u001b[39m\u001b[38;5;124m\"\u001b[39m)\n\u001b[1;32m     15\u001b[0m             row \u001b[38;5;241m=\u001b[39m cursor\u001b[38;5;241m.\u001b[39mfetchone()\n",
      "File \u001b[0;32m~/Workspace/Scr/kotvn/llm-poc/.conda/lib/python3.11/site-packages/django/utils/asyncio.py:24\u001b[0m, in \u001b[0;36masync_unsafe.<locals>.decorator.<locals>.inner\u001b[0;34m(*args, **kwargs)\u001b[0m\n\u001b[1;32m     22\u001b[0m \u001b[38;5;28;01melse\u001b[39;00m:\n\u001b[1;32m     23\u001b[0m     \u001b[38;5;28;01mif\u001b[39;00m \u001b[38;5;129;01mnot\u001b[39;00m os\u001b[38;5;241m.\u001b[39menviron\u001b[38;5;241m.\u001b[39mget(\u001b[38;5;124m\"\u001b[39m\u001b[38;5;124mDJANGO_ALLOW_ASYNC_UNSAFE\u001b[39m\u001b[38;5;124m\"\u001b[39m):\n\u001b[0;32m---> 24\u001b[0m         \u001b[38;5;28;01mraise\u001b[39;00m SynchronousOnlyOperation(message)\n\u001b[1;32m     25\u001b[0m \u001b[38;5;66;03m# Pass onward.\u001b[39;00m\n\u001b[1;32m     26\u001b[0m \u001b[38;5;28;01mreturn\u001b[39;00m func(\u001b[38;5;241m*\u001b[39margs, \u001b[38;5;241m*\u001b[39m\u001b[38;5;241m*\u001b[39mkwargs)\n",
      "\u001b[0;31mSynchronousOnlyOperation\u001b[0m: You cannot call this from an async context - use a thread or sync_to_async."
     ]
    }
   ],
   "source": [
    "import os\n",
    "import django\n",
    "from django.db import connection\n",
    "\n",
    "# Set the DJANGO_SETTINGS_MODULE environment variable\n",
    "os.environ.setdefault('DJANGO_SETTINGS_MODULE', 'retrieval_api.settings')\n",
    "\n",
    "# Initialize Django\n",
    "django.setup()\n",
    "\n",
    "\n",
    "def have_embeddings():\n",
    "        with connection.cursor() as cursor:\n",
    "            cursor.execute(\"SELECT COUNT(*) FROM knowledge\")\n",
    "            row = cursor.fetchone()\n",
    "        return row[0] > 0 if row else False\n",
    "\n",
    "have_embeddings()"
   ]
  },
  {
   "cell_type": "code",
   "execution_count": 10,
   "metadata": {},
   "outputs": [
    {
     "data": {
      "text/plain": [
       "'f480879f-abc6-4a5f-8bf1-645576df0bb8'"
      ]
     },
     "execution_count": 10,
     "metadata": {},
     "output_type": "execute_result"
    }
   ],
   "source": [
    "from collections import Counter\n",
    "\n",
    "collection_ids = [\n",
    "        [\n",
    "            \"f480879f-abc6-4a5f-8bf1-645576df0bb8\"\n",
    "        ],\n",
    "        [\n",
    "            \"f480879f-abc6-4a5f-8bf1-645576df0bb8\"\n",
    "        ],\n",
    "        [\n",
    "            \"f480879f-abc6-4a5f-8bf1-645576df0bb8\"\n",
    "        ]\n",
    "    ]\n",
    "\n",
    "collection_ids = [item for sublist in collection_ids for item in sublist]\n",
    "counter = Counter(collection_ids)\n",
    "most_common = counter.most_common(1)\n",
    "most_common[0][0]"
   ]
  },
  {
   "cell_type": "code",
   "execution_count": 3,
   "metadata": {},
   "outputs": [
    {
     "data": {
      "text/plain": [
       "'OwQvUsdjLQ8='"
      ]
     },
     "execution_count": 3,
     "metadata": {},
     "output_type": "execute_result"
    }
   ],
   "source": [
    "import base64\n",
    "import secrets\n",
    "\n",
    "safe_string = base64.urlsafe_b64encode(secrets.token_bytes(8)).decode(\n",
    "                \"utf-8\"\n",
    "            )\n",
    "session_id =  base64.urlsafe_b64encode(secrets.token_bytes(8)).decode(\"utf-8\")\n",
    "             \n",
    "\n",
    "\n",
    "session_id"
   ]
  }
 ],
 "metadata": {
  "kernelspec": {
   "display_name": "Python 3",
   "language": "python",
   "name": "python3"
  },
  "language_info": {
   "codemirror_mode": {
    "name": "ipython",
    "version": 3
   },
   "file_extension": ".py",
   "mimetype": "text/x-python",
   "name": "python",
   "nbconvert_exporter": "python",
   "pygments_lexer": "ipython3",
   "version": "3.11.9"
  }
 },
 "nbformat": 4,
 "nbformat_minor": 2
}
