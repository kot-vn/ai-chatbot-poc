{
 "cells": [
  {
   "cell_type": "code",
   "execution_count": null,
   "metadata": {},
   "outputs": [],
   "source": [
    "import os\n",
    "\n",
    "def test(request):\n",
    "  # serializer = KnowledgeSerializer(data=request.data)\n",
    "  # serializer.is_valid(raise_exception=True)\n",
    "  # validated_data = serializer.validated_data\n",
    "  file = request.data.get(\"file\")\n",
    "\n",
    "  # Get the file name and extension\n",
    "  file_name = file.name\n",
    "  file_name_without_extension, file_extension = os.path.splitext(file_name)\n",
    "\n",
    "  print(f\"File name: {file_name_without_extension}\")\n",
    "  print(f\"File extension: {file_extension}\")"
   ]
  },
  {
   "cell_type": "code",
   "execution_count": 1,
   "metadata": {},
   "outputs": [
    {
     "name": "stdout",
     "output_type": "stream",
     "text": [
      "File name: knowledges/test\n"
     ]
    }
   ],
   "source": [
    "file_name = \"test\"\n",
    "storage_path = f\"knowledges/{file_name}\"\n",
    "\n",
    "print(f\"File name: {storage_path}\")"
   ]
  },
  {
   "cell_type": "code",
   "execution_count": 1,
   "metadata": {},
   "outputs": [
    {
     "name": "stdout",
     "output_type": "stream",
     "text": [
      "3LKxDOHP_sMvxvWhSHA4p2CoIwjx7fnY\n",
      "knowledges/3LKxDOHP_sMvxvWhSHA4p2CoIwjx7fnY-test.txt\n"
     ]
    }
   ],
   "source": [
    "import secrets\n",
    "import base64\n",
    "\n",
    "url_safe_string = base64.urlsafe_b64encode(secrets.token_bytes(24)).decode('utf-8')\n",
    "\n",
    "file_name = \"test.txt\"\n",
    "storage_path = f\"knowledges/{url_safe_string}-{file_name}\"\n",
    "\n",
    "print(url_safe_string)\n",
    "print(storage_path)\n"
   ]
  },
  {
   "cell_type": "code",
   "execution_count": 1,
   "metadata": {},
   "outputs": [
    {
     "data": {
      "text/plain": [
       "'/var/folders/yg/gnt5x1sx3yxgk2qx_5dr8qkh0000gn/T/tmp1d588grm'"
      ]
     },
     "execution_count": 1,
     "metadata": {},
     "output_type": "execute_result"
    }
   ],
   "source": [
    "import tempfile\n",
    "\n",
    "tempfile.NamedTemporaryFile().name"
   ]
  },
  {
   "cell_type": "code",
   "execution_count": null,
   "metadata": {},
   "outputs": [],
   "source": [
    "from django.core.files.storage import FileSystemStorage\n",
    "from django.http import HttpResponse\n",
    "\n",
    "\n",
    "def simple_view(request):\n",
    "    in_memory_file_obj = request.FILES[\"file\"]\n",
    "    FileSystemStorage(location=\"/tmp\").save(in_memory_file_obj.name, in_memory_file_obj)\n",
    "    return HttpResponse(\"Success\")"
   ]
  },
  {
   "cell_type": "code",
   "execution_count": null,
   "metadata": {},
   "outputs": [],
   "source": [
    "import shutil\n",
    "\n",
    "os.mkdir('dir')\n",
    "# os.rmdir('dir')\n",
    "# os.path.exists('dir')\n",
    "shutil.rmtree('dir')"
   ]
  }
 ],
 "metadata": {
  "kernelspec": {
   "display_name": "Python 3",
   "language": "python",
   "name": "python3"
  },
  "language_info": {
   "codemirror_mode": {
    "name": "ipython",
    "version": 3
   },
   "file_extension": ".py",
   "mimetype": "text/x-python",
   "name": "python",
   "nbconvert_exporter": "python",
   "pygments_lexer": "ipython3",
   "version": "3.11.9"
  }
 },
 "nbformat": 4,
 "nbformat_minor": 2
}
